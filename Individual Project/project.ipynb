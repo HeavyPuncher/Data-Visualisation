{
 "cells": [
  {
   "cell_type": "code",
   "execution_count": 138,
   "metadata": {},
   "outputs": [],
   "source": [
    "import numpy as np\n",
    "import pandas as pd\n",
    "import matplotlib.pyplot as plt\n",
    "import math\n",
    "#importing the necessary libraries "
   ]
  },
  {
   "cell_type": "code",
   "execution_count": 139,
   "metadata": {},
   "outputs": [],
   "source": [
    "#reads the csv file, assigns specified to columns to given names\n",
    "df = pd.read_csv('Video_Games_Sales_as_at_22_Dec_2016.csv', usecols=[0, 2, 3, 4, 5, 6, 7, 8, 9])\n",
    "df.columns = ['Name', 'Year', 'Genre', 'Publisher', 'NaSales', 'EuSales', 'JpSales', 'OtherSales', 'GlobSales']"
   ]
  },
  {
   "cell_type": "code",
   "execution_count": 140,
   "metadata": {},
   "outputs": [
    {
     "data": {
      "text/html": [
       "<div>\n",
       "<style scoped>\n",
       "    .dataframe tbody tr th:only-of-type {\n",
       "        vertical-align: middle;\n",
       "    }\n",
       "\n",
       "    .dataframe tbody tr th {\n",
       "        vertical-align: top;\n",
       "    }\n",
       "\n",
       "    .dataframe thead th {\n",
       "        text-align: right;\n",
       "    }\n",
       "</style>\n",
       "<table border=\"1\" class=\"dataframe\">\n",
       "  <thead>\n",
       "    <tr style=\"text-align: right;\">\n",
       "      <th></th>\n",
       "      <th>Year</th>\n",
       "      <th>NaSales</th>\n",
       "      <th>EuSales</th>\n",
       "      <th>JpSales</th>\n",
       "      <th>OtherSales</th>\n",
       "      <th>GlobSales</th>\n",
       "    </tr>\n",
       "  </thead>\n",
       "  <tbody>\n",
       "    <tr>\n",
       "      <th>count</th>\n",
       "      <td>16446.000000</td>\n",
       "      <td>16715.000000</td>\n",
       "      <td>16715.000000</td>\n",
       "      <td>16715.000000</td>\n",
       "      <td>16715.000000</td>\n",
       "      <td>16715.000000</td>\n",
       "    </tr>\n",
       "    <tr>\n",
       "      <th>mean</th>\n",
       "      <td>2006.484616</td>\n",
       "      <td>0.263377</td>\n",
       "      <td>0.145060</td>\n",
       "      <td>0.077617</td>\n",
       "      <td>0.047342</td>\n",
       "      <td>0.533649</td>\n",
       "    </tr>\n",
       "    <tr>\n",
       "      <th>std</th>\n",
       "      <td>5.877050</td>\n",
       "      <td>0.813604</td>\n",
       "      <td>0.503339</td>\n",
       "      <td>0.308853</td>\n",
       "      <td>0.186731</td>\n",
       "      <td>1.548104</td>\n",
       "    </tr>\n",
       "    <tr>\n",
       "      <th>min</th>\n",
       "      <td>1980.000000</td>\n",
       "      <td>0.000000</td>\n",
       "      <td>0.000000</td>\n",
       "      <td>0.000000</td>\n",
       "      <td>0.000000</td>\n",
       "      <td>0.010000</td>\n",
       "    </tr>\n",
       "    <tr>\n",
       "      <th>25%</th>\n",
       "      <td>2003.000000</td>\n",
       "      <td>0.000000</td>\n",
       "      <td>0.000000</td>\n",
       "      <td>0.000000</td>\n",
       "      <td>0.000000</td>\n",
       "      <td>0.060000</td>\n",
       "    </tr>\n",
       "    <tr>\n",
       "      <th>50%</th>\n",
       "      <td>2007.000000</td>\n",
       "      <td>0.080000</td>\n",
       "      <td>0.020000</td>\n",
       "      <td>0.000000</td>\n",
       "      <td>0.010000</td>\n",
       "      <td>0.170000</td>\n",
       "    </tr>\n",
       "    <tr>\n",
       "      <th>75%</th>\n",
       "      <td>2010.000000</td>\n",
       "      <td>0.240000</td>\n",
       "      <td>0.110000</td>\n",
       "      <td>0.040000</td>\n",
       "      <td>0.030000</td>\n",
       "      <td>0.470000</td>\n",
       "    </tr>\n",
       "    <tr>\n",
       "      <th>max</th>\n",
       "      <td>2016.000000</td>\n",
       "      <td>41.360000</td>\n",
       "      <td>28.960000</td>\n",
       "      <td>10.220000</td>\n",
       "      <td>10.570000</td>\n",
       "      <td>82.530000</td>\n",
       "    </tr>\n",
       "  </tbody>\n",
       "</table>\n",
       "</div>"
      ],
      "text/plain": [
       "               Year       NaSales       EuSales       JpSales    OtherSales  \\\n",
       "count  16446.000000  16715.000000  16715.000000  16715.000000  16715.000000   \n",
       "mean    2006.484616      0.263377      0.145060      0.077617      0.047342   \n",
       "std        5.877050      0.813604      0.503339      0.308853      0.186731   \n",
       "min     1980.000000      0.000000      0.000000      0.000000      0.000000   \n",
       "25%     2003.000000      0.000000      0.000000      0.000000      0.000000   \n",
       "50%     2007.000000      0.080000      0.020000      0.000000      0.010000   \n",
       "75%     2010.000000      0.240000      0.110000      0.040000      0.030000   \n",
       "max     2016.000000     41.360000     28.960000     10.220000     10.570000   \n",
       "\n",
       "          GlobSales  \n",
       "count  16715.000000  \n",
       "mean       0.533649  \n",
       "std        1.548104  \n",
       "min        0.010000  \n",
       "25%        0.060000  \n",
       "50%        0.170000  \n",
       "75%        0.470000  \n",
       "max       82.530000  "
      ]
     },
     "execution_count": 140,
     "metadata": {},
     "output_type": "execute_result"
    }
   ],
   "source": [
    "df.describe()\n",
    "#Table described to displary summarised data"
   ]
  },
  {
   "cell_type": "code",
   "execution_count": 141,
   "metadata": {},
   "outputs": [
    {
     "data": {
      "text/html": [
       "<div>\n",
       "<style scoped>\n",
       "    .dataframe tbody tr th:only-of-type {\n",
       "        vertical-align: middle;\n",
       "    }\n",
       "\n",
       "    .dataframe tbody tr th {\n",
       "        vertical-align: top;\n",
       "    }\n",
       "\n",
       "    .dataframe thead th {\n",
       "        text-align: right;\n",
       "    }\n",
       "</style>\n",
       "<table border=\"1\" class=\"dataframe\">\n",
       "  <thead>\n",
       "    <tr style=\"text-align: right;\">\n",
       "      <th></th>\n",
       "      <th>Name</th>\n",
       "      <th>Year</th>\n",
       "      <th>Genre</th>\n",
       "      <th>Publisher</th>\n",
       "      <th>NaSales</th>\n",
       "      <th>EuSales</th>\n",
       "      <th>JpSales</th>\n",
       "      <th>OtherSales</th>\n",
       "      <th>GlobSales</th>\n",
       "    </tr>\n",
       "  </thead>\n",
       "  <tbody>\n",
       "    <tr>\n",
       "      <th>0</th>\n",
       "      <td>Wii Sports</td>\n",
       "      <td>2006.0</td>\n",
       "      <td>Sports</td>\n",
       "      <td>Nintendo</td>\n",
       "      <td>41.36</td>\n",
       "      <td>28.96</td>\n",
       "      <td>3.77</td>\n",
       "      <td>8.45</td>\n",
       "      <td>82.53</td>\n",
       "    </tr>\n",
       "    <tr>\n",
       "      <th>1</th>\n",
       "      <td>Super Mario Bros.</td>\n",
       "      <td>1985.0</td>\n",
       "      <td>Platform</td>\n",
       "      <td>Nintendo</td>\n",
       "      <td>29.08</td>\n",
       "      <td>3.58</td>\n",
       "      <td>6.81</td>\n",
       "      <td>0.77</td>\n",
       "      <td>40.24</td>\n",
       "    </tr>\n",
       "    <tr>\n",
       "      <th>2</th>\n",
       "      <td>Mario Kart Wii</td>\n",
       "      <td>2008.0</td>\n",
       "      <td>Racing</td>\n",
       "      <td>Nintendo</td>\n",
       "      <td>15.68</td>\n",
       "      <td>12.76</td>\n",
       "      <td>3.79</td>\n",
       "      <td>3.29</td>\n",
       "      <td>35.52</td>\n",
       "    </tr>\n",
       "    <tr>\n",
       "      <th>3</th>\n",
       "      <td>Wii Sports Resort</td>\n",
       "      <td>2009.0</td>\n",
       "      <td>Sports</td>\n",
       "      <td>Nintendo</td>\n",
       "      <td>15.61</td>\n",
       "      <td>10.93</td>\n",
       "      <td>3.28</td>\n",
       "      <td>2.95</td>\n",
       "      <td>32.77</td>\n",
       "    </tr>\n",
       "    <tr>\n",
       "      <th>4</th>\n",
       "      <td>Pokemon Red/Pokemon Blue</td>\n",
       "      <td>1996.0</td>\n",
       "      <td>Role-Playing</td>\n",
       "      <td>Nintendo</td>\n",
       "      <td>11.27</td>\n",
       "      <td>8.89</td>\n",
       "      <td>10.22</td>\n",
       "      <td>1.00</td>\n",
       "      <td>31.37</td>\n",
       "    </tr>\n",
       "  </tbody>\n",
       "</table>\n",
       "</div>"
      ],
      "text/plain": [
       "                       Name    Year         Genre Publisher  NaSales  EuSales  \\\n",
       "0                Wii Sports  2006.0        Sports  Nintendo    41.36    28.96   \n",
       "1         Super Mario Bros.  1985.0      Platform  Nintendo    29.08     3.58   \n",
       "2            Mario Kart Wii  2008.0        Racing  Nintendo    15.68    12.76   \n",
       "3         Wii Sports Resort  2009.0        Sports  Nintendo    15.61    10.93   \n",
       "4  Pokemon Red/Pokemon Blue  1996.0  Role-Playing  Nintendo    11.27     8.89   \n",
       "\n",
       "   JpSales  OtherSales  GlobSales  \n",
       "0     3.77        8.45      82.53  \n",
       "1     6.81        0.77      40.24  \n",
       "2     3.79        3.29      35.52  \n",
       "3     3.28        2.95      32.77  \n",
       "4    10.22        1.00      31.37  "
      ]
     },
     "execution_count": 141,
     "metadata": {},
     "output_type": "execute_result"
    }
   ],
   "source": [
    "df.head()\n",
    "#Data displays top 5 rows"
   ]
  },
  {
   "cell_type": "code",
   "execution_count": 142,
   "metadata": {},
   "outputs": [
    {
     "data": {
      "text/plain": [
       "1980.0       9\n",
       "1984.0      14\n",
       "1985.0      14\n",
       "1988.0      15\n",
       "1990.0      16\n",
       "1987.0      16\n",
       "1989.0      17\n",
       "1983.0      17\n",
       "1986.0      21\n",
       "1982.0      36\n",
       "1991.0      41\n",
       "1992.0      43\n",
       "1981.0      46\n",
       "1993.0      62\n",
       "1994.0     121\n",
       "1995.0     219\n",
       "1996.0     263\n",
       "1997.0     289\n",
       "1999.0     338\n",
       "2000.0     350\n",
       "1998.0     379\n",
       "2001.0     482\n",
       "2016.0     502\n",
       "2013.0     544\n",
       "2014.0     581\n",
       "2015.0     606\n",
       "2012.0     653\n",
       "2004.0     762\n",
       "2003.0     775\n",
       "2002.0     829\n",
       "2005.0     939\n",
       "2006.0    1006\n",
       "2011.0    1136\n",
       "2007.0    1197\n",
       "2010.0    1255\n",
       "2009.0    1426\n",
       "2008.0    1427\n",
       "Name: Year, dtype: int64"
      ]
     },
     "execution_count": 142,
     "metadata": {},
     "output_type": "execute_result"
    }
   ],
   "source": [
    "df['Year'] = df['Year'].astype('category')\n",
    "yearCounts = df['Year'].value_counts(ascending=True)\n",
    "yearCounts\n",
    "#Year is made as a category of data, year data provided along with their frequencies"
   ]
  },
  {
   "cell_type": "code",
   "execution_count": 143,
   "metadata": {},
   "outputs": [
    {
     "data": {
      "text/plain": [
       "(0, 30)"
      ]
     },
     "execution_count": 143,
     "metadata": {},
     "output_type": "execute_result"
    },
    {
     "data": {
      "image/png": "[encoded data removed]",
      "text/plain": [
       "<Figure size 432x288 with 1 Axes>"
      ]
     },
     "metadata": {
      "needs_background": "light"
     },
     "output_type": "display_data"
    }
   ],
   "source": [
    "yearLine = yearCounts.plot.line(color=plt.cm.Blues(100))\n",
    "\n",
    "yearLine.set_title('Years for games released')\n",
    "yearLine.set_xlabel('Year')\n",
    "yearLine.set_ylabel('Frequency')\n",
    "yearLine.set_xlim(0, 30)\n",
    "#Line graph plotted for year with specified titles, colour, and x co-ordinate range"
   ]
  },
  {
   "cell_type": "code",
   "execution_count": 89,
   "metadata": {},
   "outputs": [
    {
     "data": {
      "text/plain": [
       "Puzzle           580\n",
       "Strategy         683\n",
       "Fighting         849\n",
       "Simulation       873\n",
       "Platform         888\n",
       "Racing          1249\n",
       "Adventure       1303\n",
       "Shooter         1323\n",
       "Role-Playing    1498\n",
       "Misc            1750\n",
       "Sports          2348\n",
       "Action          3369\n",
       "Name: Genre, dtype: int64"
      ]
     },
     "execution_count": 89,
     "metadata": {},
     "output_type": "execute_result"
    }
   ],
   "source": [
    "df['Genre'] = df['Genre'].astype('category')\n",
    "genreCounts = df['Genre'].value_counts(ascending=True)\n",
    "genreCounts\n",
    "#Genre is made as a category of data, genre data provided along with their frequencies"
   ]
  },
  {
   "cell_type": "code",
   "execution_count": 112,
   "metadata": {},
   "outputs": [
    {
     "data": {
      "text/plain": [
       "(0, 12)"
      ]
     },
     "execution_count": 112,
     "metadata": {},
     "output_type": "execute_result"
    },
    {
     "data": {
      "image/png": "[encoded data removed]",
      "text/plain": [
       "<Figure size 432x288 with 1 Axes>"
      ]
     },
     "metadata": {
      "needs_background": "light"
     },
     "output_type": "display_data"
    }
   ],
   "source": [
    "genreBar = genreCounts.plot.bar(color=plt.cm.Greens(np.linspace(0.5, 1.0, 12)))\n",
    "\n",
    "genreBar.set_title('Amount of games produced with different genres from 1980-2016 (Ascending Order)')\n",
    "genreBar.set_xlabel('Game genres')\n",
    "genreBar.set_ylabel('Frequency')\n",
    "genreBar.set_xlim(0, 12)\n",
    "#Vertical bar graph plotted for genre with specfied colour shade effect, titles, and x co-ordinate range"
   ]
  },
  {
   "cell_type": "code",
   "execution_count": 91,
   "metadata": {},
   "outputs": [
    {
     "data": {
      "text/plain": [
       "Puzzle           580\n",
       "Strategy         683\n",
       "Fighting         849\n",
       "Simulation       873\n",
       "Platform         888\n",
       "Racing          1249\n",
       "Adventure       1303\n",
       "Shooter         1323\n",
       "Role-Playing    1498\n",
       "Misc            1750\n",
       "Sports          2348\n",
       "Action          3369\n",
       "Name: Genre, dtype: int64"
      ]
     },
     "execution_count": 91,
     "metadata": {},
     "output_type": "execute_result"
    }
   ],
   "source": [
    "genreTypes = ['Puzzle', 'Strategy', 'Fighting', 'Simulation', 'Platform', 'Racing', 'Adventure', 'Shooter', 'Role-Playing', 'Misc', 'Sports', 'Action']\n",
    "df['Genre']= df['Genre'].astype(pd.CategoricalDtype(categories=genreTypes,ordered=True))\n",
    "\n",
    "genreCounts = df['Genre'].value_counts(sort=False)\n",
    "genreCounts\n",
    "#Genre data is counted"
   ]
  },
  {
   "cell_type": "code",
   "execution_count": 106,
   "metadata": {},
   "outputs": [
    {
     "data": {
      "text/plain": [
       "[<matplotlib.axis.XTick at 0x7f32680ec668>,\n",
       " <matplotlib.axis.XTick at 0x7f326842df60>,\n",
       " <matplotlib.axis.XTick at 0x7f3268161b00>,\n",
       " <matplotlib.axis.XTick at 0x7f3268167a20>,\n",
       " <matplotlib.axis.XTick at 0x7f327daa7f28>,\n",
       " <matplotlib.axis.XTick at 0x7f3268152b38>,\n",
       " <matplotlib.axis.XTick at 0x7f32681522b0>,\n",
       " <matplotlib.axis.XTick at 0x7f3268152cf8>,\n",
       " <matplotlib.axis.XTick at 0x7f326842dc88>,\n",
       " <matplotlib.axis.XTick at 0x7f327dae45c0>]"
      ]
     },
     "execution_count": 106,
     "metadata": {},
     "output_type": "execute_result"
    },
    {
     "data": {
      "image/png": "[encoded data removed]",
      "text/plain": [
       "<Figure size 432x288 with 1 Axes>"
      ]
     },
     "metadata": {
      "needs_background": "light"
     },
     "output_type": "display_data"
    }
   ],
   "source": [
    "genreBar = genreCounts.plot.bar(color=plt.cm.Greens(np.linspace(0.5, 1.0, 5)))\n",
    "\n",
    "genreBar.set_title('Genre types')\n",
    "genreBar.set_xlabel('Frequency')\n",
    "genreBar.set_ylabel('Year')\n",
    "genreBar.set_xticks(np.arange(0, 20, step=2))\n",
    "#plt.savefig('years.png', dpi=300, bbox_inches='tight')\n",
    "#Data for genre plotted as a vertical bar graph with green shade effect"
   ]
  },
  {
   "cell_type": "code",
   "execution_count": 160,
   "metadata": {},
   "outputs": [
    {
     "data": {
      "text/plain": [
       "1980       9\n",
       "1981      46\n",
       "1982      36\n",
       "1983      17\n",
       "1984      14\n",
       "1985      14\n",
       "1986      21\n",
       "1987      16\n",
       "1988      15\n",
       "1989      17\n",
       "1990      16\n",
       "1991      41\n",
       "1992      43\n",
       "1993      62\n",
       "1994     121\n",
       "1995     219\n",
       "1996     263\n",
       "1997     289\n",
       "1998     379\n",
       "1999     338\n",
       "2000     350\n",
       "2001     482\n",
       "2002     829\n",
       "2003     775\n",
       "2004     762\n",
       "2005     939\n",
       "2006    1006\n",
       "2007    1197\n",
       "2008    1427\n",
       "2009    1426\n",
       "2010    1255\n",
       "2011    1136\n",
       "2012     653\n",
       "2013     544\n",
       "2014     581\n",
       "2015     606\n",
       "2016     502\n",
       "Name: Year, dtype: int64"
      ]
     },
     "execution_count": 160,
     "metadata": {},
     "output_type": "execute_result"
    }
   ],
   "source": [
    "years = ['1980', '1981', '1982', '1983', '1984', '1985', '1986', '1987','1988', '1989', '1990', '1991', '1992', '1993'\n",
    ", '1994', '1995', '1996', '1997', '1998', '1999', '2000','2001', '2002', '2003', '2004', '2005', '2006', '2007', '2008', \n",
    "'2009', '2010', '2011', '2012', '2013', '2014', '2015', '2016']\n",
    "df['Year']= df['Year'].astype(pd.CategoricalDtype(categories=years,ordered=True))\n",
    "\n",
    "yearCounts = df['Year'].value_counts(sort=False)\n",
    "yearCounts\n",
    "#Year is counted and ordered"
   ]
  },
  {
   "cell_type": "code",
   "execution_count": 161,
   "metadata": {},
   "outputs": [
    {
     "data": {
      "text/plain": [
       "[<matplotlib.axis.XTick at 0x7f32605a72e8>]"
      ]
     },
     "execution_count": 161,
     "metadata": {},
     "output_type": "execute_result"
    },
    {
     "data": {
      "image/png": "[encoded data removed]",
      "text/plain": [
       "<Figure size 432x288 with 1 Axes>"
      ]
     },
     "metadata": {
      "needs_background": "light"
     },
     "output_type": "display_data"
    }
   ],
   "source": [
    "yearBar = yearCounts.plot.line(color=plt.cm.Greens(np.linspace(0.5, 1.0, 5)))\n",
    "\n",
    "yearBar.set_title('Year releases')\n",
    "yearBar.set_xlabel('Year')\n",
    "yearBar.set_ylabel('Frequencies')\n",
    "yearBar.set_xticks(np.arange(0, 37, step=37))\n",
    "#plt.savefig('years.png', dpi=300, bbox_inches='tight')\n",
    "#year data plotted as line graph"
   ]
  },
  {
   "cell_type": "code",
   "execution_count": 191,
   "metadata": {},
   "outputs": [
    {
     "data": {
      "image/png": "[encoded data removed]",
      "text/plain": [
       "<Figure size 432x288 with 1 Axes>"
      ]
     },
     "metadata": {
      "needs_background": "light"
     },
     "output_type": "display_data"
    }
   ],
   "source": [
    "df = pd.DataFrame({\"Game names\":['Pokemon Red/Blue', 'Wii Sports Resort', 'Mario Kart Wii', 'Super Mario Bros', 'Wii Sports'], \n",
    "\"Global Sales (in mllions of units sold)\":[31.37, 32.77, 35.52, 40.24, 82.53]})\n",
    "ax = df.plot.bar(x=\"Game names\", y =\"Global Sales (in mllions of units sold)\", rot= 15)\n",
    "#Veritcal bar graph plotted for top 5 globally sold games"
   ]
  },
  {
   "cell_type": "code",
   "execution_count": null,
   "metadata": {},
   "outputs": [],
   "source": []
  }
 ],
 "metadata": {
  "kernelspec": {
   "display_name": "Python 3",
   "language": "python",
   "name": "python3"
  },
  "language_info": {
   "codemirror_mode": {
    "name": "ipython",
    "version": 3
   },
   "file_extension": ".py",
   "mimetype": "text/x-python",
   "name": "python",
   "nbconvert_exporter": "python",
   "pygments_lexer": "ipython3",
   "version": "3.5.1"
  }
 },
 "nbformat": 4,
 "nbformat_minor": 2
}

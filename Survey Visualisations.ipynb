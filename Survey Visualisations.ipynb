{
 "cells": [
  {
   "cell_type": "code",
   "execution_count": 74,
   "metadata": {},
   "outputs": [],
   "source": [
    "import pandas as pd\n",
    "import numpy as np\n",
    "import matplotlib.pyplot as plt"
   ]
  },
  {
   "cell_type": "code",
   "execution_count": 75,
   "metadata": {},
   "outputs": [],
   "source": [
    "df = pd.read_csv('CW-survey.csv', usecols=[1, 2, 5, 11])\n",
    "df.columns = ['Gender', 'Year', 'Recommend', 'Regret']"
   ]
  },
  {
   "cell_type": "code",
   "execution_count": 76,
   "metadata": {},
   "outputs": [
    {
     "data": {
      "text/html": [
       "<div>\n",
       "<style scoped>\n",
       "    .dataframe tbody tr th:only-of-type {\n",
       "        vertical-align: middle;\n",
       "    }\n",
       "\n",
       "    .dataframe tbody tr th {\n",
       "        vertical-align: top;\n",
       "    }\n",
       "\n",
       "    .dataframe thead th {\n",
       "        text-align: right;\n",
       "    }\n",
       "</style>\n",
       "<table border=\"1\" class=\"dataframe\">\n",
       "  <thead>\n",
       "    <tr style=\"text-align: right;\">\n",
       "      <th></th>\n",
       "      <th>Gender</th>\n",
       "      <th>Year</th>\n",
       "      <th>Recommend</th>\n",
       "      <th>Regret</th>\n",
       "    </tr>\n",
       "  </thead>\n",
       "  <tbody>\n",
       "    <tr>\n",
       "      <td>count</td>\n",
       "      <td>24</td>\n",
       "      <td>24</td>\n",
       "      <td>24</td>\n",
       "      <td>24</td>\n",
       "    </tr>\n",
       "    <tr>\n",
       "      <td>unique</td>\n",
       "      <td>2</td>\n",
       "      <td>3</td>\n",
       "      <td>4</td>\n",
       "      <td>3</td>\n",
       "    </tr>\n",
       "    <tr>\n",
       "      <td>top</td>\n",
       "      <td>Male</td>\n",
       "      <td>3rd year</td>\n",
       "      <td>Not likely</td>\n",
       "      <td>No</td>\n",
       "    </tr>\n",
       "    <tr>\n",
       "      <td>freq</td>\n",
       "      <td>17</td>\n",
       "      <td>18</td>\n",
       "      <td>10</td>\n",
       "      <td>13</td>\n",
       "    </tr>\n",
       "  </tbody>\n",
       "</table>\n",
       "</div>"
      ],
      "text/plain": [
       "       Gender      Year   Recommend Regret\n",
       "count      24        24          24     24\n",
       "unique      2         3           4      3\n",
       "top      Male  3rd year  Not likely     No\n",
       "freq       17        18          10     13"
      ]
     },
     "execution_count": 76,
     "metadata": {},
     "output_type": "execute_result"
    }
   ],
   "source": [
    "df.describe()"
   ]
  },
  {
   "cell_type": "code",
   "execution_count": 77,
   "metadata": {},
   "outputs": [
    {
     "data": {
      "text/html": [
       "<div>\n",
       "<style scoped>\n",
       "    .dataframe tbody tr th:only-of-type {\n",
       "        vertical-align: middle;\n",
       "    }\n",
       "\n",
       "    .dataframe tbody tr th {\n",
       "        vertical-align: top;\n",
       "    }\n",
       "\n",
       "    .dataframe thead th {\n",
       "        text-align: right;\n",
       "    }\n",
       "</style>\n",
       "<table border=\"1\" class=\"dataframe\">\n",
       "  <thead>\n",
       "    <tr style=\"text-align: right;\">\n",
       "      <th></th>\n",
       "      <th>Gender</th>\n",
       "      <th>Year</th>\n",
       "      <th>Recommend</th>\n",
       "      <th>Regret</th>\n",
       "    </tr>\n",
       "  </thead>\n",
       "  <tbody>\n",
       "    <tr>\n",
       "      <td>0</td>\n",
       "      <td>Female</td>\n",
       "      <td>3rd year</td>\n",
       "      <td>Not likely</td>\n",
       "      <td>Prefer not to say</td>\n",
       "    </tr>\n",
       "    <tr>\n",
       "      <td>1</td>\n",
       "      <td>Female</td>\n",
       "      <td>3rd year</td>\n",
       "      <td>Not likely</td>\n",
       "      <td>Yes</td>\n",
       "    </tr>\n",
       "    <tr>\n",
       "      <td>2</td>\n",
       "      <td>Female</td>\n",
       "      <td>Masters</td>\n",
       "      <td>Likely</td>\n",
       "      <td>No</td>\n",
       "    </tr>\n",
       "    <tr>\n",
       "      <td>3</td>\n",
       "      <td>Male</td>\n",
       "      <td>3rd year</td>\n",
       "      <td>Likely</td>\n",
       "      <td>No</td>\n",
       "    </tr>\n",
       "    <tr>\n",
       "      <td>4</td>\n",
       "      <td>Male</td>\n",
       "      <td>3rd year</td>\n",
       "      <td>Not likely</td>\n",
       "      <td>Yes</td>\n",
       "    </tr>\n",
       "  </tbody>\n",
       "</table>\n",
       "</div>"
      ],
      "text/plain": [
       "   Gender      Year   Recommend             Regret\n",
       "0  Female  3rd year  Not likely  Prefer not to say\n",
       "1  Female  3rd year  Not likely                Yes\n",
       "2  Female   Masters      Likely                 No\n",
       "3    Male  3rd year      Likely                 No\n",
       "4    Male  3rd year  Not likely                Yes"
      ]
     },
     "execution_count": 77,
     "metadata": {},
     "output_type": "execute_result"
    }
   ],
   "source": [
    "df.head()"
   ]
  },
  {
   "cell_type": "code",
   "execution_count": 78,
   "metadata": {},
   "outputs": [],
   "source": [
    "df['Gender'] = df['Gender'].astype('category')"
   ]
  },
  {
   "cell_type": "code",
   "execution_count": 79,
   "metadata": {},
   "outputs": [
    {
     "data": {
      "text/plain": [
       "Female     7\n",
       "Male      17\n",
       "Name: Gender, dtype: int64"
      ]
     },
     "execution_count": 79,
     "metadata": {},
     "output_type": "execute_result"
    }
   ],
   "source": [
    "genderCounts = df['Gender'].value_counts(ascending=True)\n",
    "genderCounts"
   ]
  },
  {
   "cell_type": "code",
   "execution_count": 69,
   "metadata": {},
   "outputs": [
    {
     "data": {
      "text/plain": [
       "(0, 18)"
      ]
     },
     "execution_count": 69,
     "metadata": {},
     "output_type": "execute_result"
    },
    {
     "data": {
      "image/png": "[encoded data removed]",
      "text/plain": [
       "<Figure size 432x288 with 1 Axes>"
      ]
     },
     "metadata": {
      "needs_background": "light"
     },
     "output_type": "display_data"
    }
   ],
   "source": [
    "genderBar = genderCounts.plot.barh(color=plt.cm.Blues(100))\n",
    "\n",
    "genderBar.set_title('Gender of participants')\n",
    "genderBar.set_xlabel('Frequency')\n",
    "genderBar.set_ylabel('Gender')\n",
    "genderBar.set_xlim(0, 18)"
   ]
  },
  {
   "cell_type": "code",
   "execution_count": 80,
   "metadata": {},
   "outputs": [
    {
     "data": {
      "text/plain": [
       "1st year     2\n",
       "3rd year    18\n",
       "Masters      4\n",
       "Name: Year, dtype: int64"
      ]
     },
     "execution_count": 80,
     "metadata": {},
     "output_type": "execute_result"
    }
   ],
   "source": [
    "yearLevels = ['1st year', '3rd year', 'Masters']\n",
    "df['Year']= df['Year'].astype(pd.CategoricalDtype(categories=yearLevels,ordered=True))\n",
    "\n",
    "yearCounts = df['Year'].value_counts(sort=False)\n",
    "yearCounts"
   ]
  },
  {
   "cell_type": "code",
   "execution_count": 71,
   "metadata": {},
   "outputs": [
    {
     "data": {
      "text/plain": [
       "[<matplotlib.axis.XTick at 0x7f09570ae668>,\n",
       " <matplotlib.axis.XTick at 0x7f09571229b0>,\n",
       " <matplotlib.axis.XTick at 0x7f09570b2c18>,\n",
       " <matplotlib.axis.XTick at 0x7f09570e5be0>,\n",
       " <matplotlib.axis.XTick at 0x7f095706a160>,\n",
       " <matplotlib.axis.XTick at 0x7f095706a5f8>,\n",
       " <matplotlib.axis.XTick at 0x7f095706ab38>,\n",
       " <matplotlib.axis.XTick at 0x7f0957072128>,\n",
       " <matplotlib.axis.XTick at 0x7f095706a9b0>,\n",
       " <matplotlib.axis.XTick at 0x7f09570e55c0>]"
      ]
     },
     "execution_count": 71,
     "metadata": {},
     "output_type": "execute_result"
    },
    {
     "data": {
      "image/png": "[encoded data removed]",
      "text/plain": [
       "<Figure size 432x288 with 1 Axes>"
      ]
     },
     "metadata": {
      "needs_background": "light"
     },
     "output_type": "display_data"
    }
   ],
   "source": [
    "yearBar = yearCounts.plot.barh(color=plt.cm.Greens(100))\n",
    "\n",
    "yearBar.set_title('Current year of participants')\n",
    "yearBar.set_xlabel('Frequency')\n",
    "yearBar.set_ylabel('Year')\n",
    "yearBar.set_xticks(np.arange(0, 20, step=2))\n",
    "#plt.savefig('years.png', dpi=300, bbox_inches='tight')"
   ]
  },
  {
   "cell_type": "code",
   "execution_count": 81,
   "metadata": {},
   "outputs": [
    {
     "data": {
      "text/plain": [
       "Yes                   6\n",
       "No                   13\n",
       "Prefer not to say     5\n",
       "Name: Regret, dtype: int64"
      ]
     },
     "execution_count": 81,
     "metadata": {},
     "output_type": "execute_result"
    }
   ],
   "source": [
    "opinLevels = ['Yes','No','Prefer not to say']\n",
    "df['Regret']= df['Regret'].astype(pd.CategoricalDtype(categories=opinLevels,ordered=True))\n",
    "\n",
    "opinionsCount = df['Regret'].value_counts(sort=False)\n",
    "opinionsCount"
   ]
  },
  {
   "cell_type": "code",
   "execution_count": 73,
   "metadata": {},
   "outputs": [
    {
     "data": {
      "text/plain": [
       "Text(0, 0.5, 'Regret options')"
      ]
     },
     "execution_count": 73,
     "metadata": {},
     "output_type": "execute_result"
    },
    {
     "data": {
      "image/png": "[encoded data removed]",
      "text/plain": [
       "<Figure size 432x288 with 1 Axes>"
      ]
     },
     "metadata": {
      "needs_background": "light"
     },
     "output_type": "display_data"
    }
   ],
   "source": [
    "opinionsBar = opinionsCount.plot.barh(color=plt.cm.Blues(np.linspace(0.5, 1.0, 5)))\n",
    "\n",
    "opinionsBar.set_title('Do you regret coming to Goldsmiths to study Computing', pad=5)\n",
    "opinionsBar.set_xlabel('Frequency', labelpad = 5)\n",
    "opinionsBar.set_ylabel('Regret options', labelpad=10)"
   ]
  },
  {
   "cell_type": "code",
   "execution_count": 82,
   "metadata": {},
   "outputs": [
    {
     "data": {
      "text/plain": [
       "Yes                   6\n",
       "No                   13\n",
       "Prefer not to say     5\n",
       "Name: Regret, dtype: int64"
      ]
     },
     "execution_count": 82,
     "metadata": {},
     "output_type": "execute_result"
    }
   ],
   "source": [
    "#Regret\n",
    "oftenLevels = ['Yes', 'No', 'Prefer not to say'] \n",
    "df['Regret']=df['Regret'].astype(pd.CategoricalDtype(categories=oftenLevels,ordered=True))\n",
    "\n",
    "engagCount = df['Regret'].value_counts(sort=False)\n",
    "engagCount"
   ]
  },
  {
   "cell_type": "code",
   "execution_count": 37,
   "metadata": {},
   "outputs": [
    {
     "data": {
      "text/html": [
       "<div>\n",
       "<style scoped>\n",
       "    .dataframe tbody tr th:only-of-type {\n",
       "        vertical-align: middle;\n",
       "    }\n",
       "\n",
       "    .dataframe tbody tr th {\n",
       "        vertical-align: top;\n",
       "    }\n",
       "\n",
       "    .dataframe thead th {\n",
       "        text-align: right;\n",
       "    }\n",
       "</style>\n",
       "<table border=\"1\" class=\"dataframe\">\n",
       "  <thead>\n",
       "    <tr style=\"text-align: right;\">\n",
       "      <th>Gender</th>\n",
       "      <th>Female</th>\n",
       "      <th>Male</th>\n",
       "      <th>All</th>\n",
       "    </tr>\n",
       "    <tr>\n",
       "      <th>Recommend</th>\n",
       "      <th></th>\n",
       "      <th></th>\n",
       "      <th></th>\n",
       "    </tr>\n",
       "  </thead>\n",
       "  <tbody>\n",
       "    <tr>\n",
       "      <td>Very likely</td>\n",
       "      <td>1</td>\n",
       "      <td>1</td>\n",
       "      <td>2</td>\n",
       "    </tr>\n",
       "    <tr>\n",
       "      <td>Likely</td>\n",
       "      <td>1</td>\n",
       "      <td>9</td>\n",
       "      <td>10</td>\n",
       "    </tr>\n",
       "    <tr>\n",
       "      <td>Not likely</td>\n",
       "      <td>5</td>\n",
       "      <td>5</td>\n",
       "      <td>10</td>\n",
       "    </tr>\n",
       "    <tr>\n",
       "      <td>Would not recommend</td>\n",
       "      <td>0</td>\n",
       "      <td>2</td>\n",
       "      <td>2</td>\n",
       "    </tr>\n",
       "  </tbody>\n",
       "</table>\n",
       "</div>"
      ],
      "text/plain": [
       "Gender               Female  Male  All\n",
       "Recommend                             \n",
       "Very likely               1     1    2\n",
       "Likely                    1     9   10\n",
       "Not likely                5     5   10\n",
       "Would not recommend       0     2    2"
      ]
     },
     "execution_count": 37,
     "metadata": {},
     "output_type": "execute_result"
    }
   ],
   "source": [
    "#2 cat. variables (Opinion & Gender)\n",
    "opinLevels = ['Very likely','Likely','Not likely','Would not recommend']\n",
    "df['Recommend']= df['Recommend'].astype(pd.CategoricalDtype(categories=opinLevels,ordered=True))\n",
    "\n",
    "table=pd.crosstab(df['Recommend'], df['Gender'],margins=True)\n",
    "#table=table.sort_values(by='All', ascending=False)\n",
    "table.drop(index='All', inplace=True)\n",
    "table"
   ]
  },
  {
   "cell_type": "code",
   "execution_count": 83,
   "metadata": {},
   "outputs": [
    {
     "data": {
      "text/plain": [
       "Text(0, 0.5, 'Recommendation Level')"
      ]
     },
     "execution_count": 83,
     "metadata": {},
     "output_type": "execute_result"
    },
    {
     "data": {
      "image/png": "[encoded data removed]",
      "text/plain": [
       "<Figure size 432x288 with 1 Axes>"
      ]
     },
     "metadata": {
      "needs_background": "light"
     },
     "output_type": "display_data"
    }
   ],
   "source": [
    "table.drop('All', axis='columns', inplace=True)\n",
    "#twoCatVar = table.plot.barh(colormap='RdBu')\n",
    "twoCatVar = table.plot.barh(color='gc')\n",
    "\n",
    "twoCatVar.set_title('How likely are you to recommend this university to friends or family', pad=5)\n",
    "twoCatVar.set_xlabel('Frequency', labelpad = 5)\n",
    "twoCatVar.set_ylabel('Recommendation Level', labelpad=10)\n",
    "#plt.savefig('comfortwithgender.png', dpi=300, bbox_inches='tight')"
   ]
  },
  {
   "cell_type": "code",
   "execution_count": 54,
   "metadata": {},
   "outputs": [
    {
     "data": {
      "text/html": [
       "<div>\n",
       "<style scoped>\n",
       "    .dataframe tbody tr th:only-of-type {\n",
       "        vertical-align: middle;\n",
       "    }\n",
       "\n",
       "    .dataframe tbody tr th {\n",
       "        vertical-align: top;\n",
       "    }\n",
       "\n",
       "    .dataframe thead th {\n",
       "        text-align: right;\n",
       "    }\n",
       "</style>\n",
       "<table border=\"1\" class=\"dataframe\">\n",
       "  <thead>\n",
       "    <tr style=\"text-align: right;\">\n",
       "      <th>Year</th>\n",
       "      <th>1st year</th>\n",
       "      <th>3rd year</th>\n",
       "      <th>Masters</th>\n",
       "      <th>All</th>\n",
       "    </tr>\n",
       "    <tr>\n",
       "      <th>Recommend</th>\n",
       "      <th></th>\n",
       "      <th></th>\n",
       "      <th></th>\n",
       "      <th></th>\n",
       "    </tr>\n",
       "  </thead>\n",
       "  <tbody>\n",
       "    <tr>\n",
       "      <td>Very likely</td>\n",
       "      <td>0</td>\n",
       "      <td>0</td>\n",
       "      <td>2</td>\n",
       "      <td>2</td>\n",
       "    </tr>\n",
       "    <tr>\n",
       "      <td>Likely</td>\n",
       "      <td>2</td>\n",
       "      <td>6</td>\n",
       "      <td>2</td>\n",
       "      <td>10</td>\n",
       "    </tr>\n",
       "    <tr>\n",
       "      <td>Not likely</td>\n",
       "      <td>0</td>\n",
       "      <td>10</td>\n",
       "      <td>0</td>\n",
       "      <td>10</td>\n",
       "    </tr>\n",
       "    <tr>\n",
       "      <td>Would not recommend</td>\n",
       "      <td>0</td>\n",
       "      <td>2</td>\n",
       "      <td>0</td>\n",
       "      <td>2</td>\n",
       "    </tr>\n",
       "  </tbody>\n",
       "</table>\n",
       "</div>"
      ],
      "text/plain": [
       "Year                 1st year  3rd year  Masters  All\n",
       "Recommend                                            \n",
       "Very likely                 0         0        2    2\n",
       "Likely                      2         6        2   10\n",
       "Not likely                  0        10        0   10\n",
       "Would not recommend         0         2        0    2"
      ]
     },
     "execution_count": 54,
     "metadata": {},
     "output_type": "execute_result"
    }
   ],
   "source": [
    "#2 cat. variables (Opinion & year)\n",
    "opinLevels = ['Very likely','Likely','Not likely','Would not recommend']\n",
    "df['Recommend']= df['Recommend'].astype(pd.CategoricalDtype(categories=opinLevels,ordered=True))\n",
    "\n",
    "table = pd.crosstab(df['Recommend'], df['Year'],margins=True)\n",
    "#table=table.sort_values(by='All', ascending=False)\n",
    "table.drop(index='All', inplace=True)\n",
    "table"
   ]
  },
  {
   "cell_type": "code",
   "execution_count": 84,
   "metadata": {},
   "outputs": [
    {
     "data": {
      "text/plain": [
       "Text(0, 0.5, 'Recommendation Level')"
      ]
     },
     "execution_count": 84,
     "metadata": {},
     "output_type": "execute_result"
    },
    {
     "data": {
      "image/png": "[encoded data removed]",
      "text/plain": [
       "<Figure size 432x288 with 1 Axes>"
      ]
     },
     "metadata": {
      "needs_background": "light"
     },
     "output_type": "display_data"
    }
   ],
   "source": [
    "#table.drop('All', axis='columns', inplace=True)\n",
    "#twoCatVar = table.plot.barh(color=plt.cm.Greens(np.linspace(0.3, 1, 3)))\n",
    "twoCatVar = table.plot.barh(color='gcbr')\n",
    "\n",
    "twoCatVar.set_title('How likely are you to recommend this university to friends or family', pad=5)\n",
    "twoCatVar.set_xlabel('Frequency', labelpad = 4)\n",
    "twoCatVar.set_ylabel('Recommendation Level', labelpad=10)\n",
    "# plt.savefig('comfort&year.png', dpi=300, bbox_inches='tight')"
   ]
  },
  {
   "cell_type": "code",
   "execution_count": null,
   "metadata": {},
   "outputs": [],
   "source": []
  }
 ],
 "metadata": {
  "kernelspec": {
   "display_name": "Python 3.6",
   "language": "python",
   "name": "python36"
  },
  "language_info": {
   "codemirror_mode": {
    "name": "ipython",
    "version": 3
   },
   "file_extension": ".py",
   "mimetype": "text/x-python",
   "name": "python",
   "nbconvert_exporter": "python",
   "pygments_lexer": "ipython3",
   "version": "3.6.3"
  }
 },
 "nbformat": 4,
 "nbformat_minor": 2
}
